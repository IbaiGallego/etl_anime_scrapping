{
 "cells": [
  {
   "cell_type": "markdown",
   "id": "f1f6be60",
   "metadata": {},
   "source": [
    "# Anime Scrapping ETL"
   ]
  },
  {
   "cell_type": "markdown",
   "id": "5e57e498",
   "metadata": {},
   "source": [
    "## Imports"
   ]
  },
  {
   "cell_type": "code",
   "execution_count": 1,
   "id": "abfbe282",
   "metadata": {},
   "outputs": [],
   "source": [
    "import requests\n",
    "\n",
    "from bs4 import BeautifulSoup as bs\n",
    "\n",
    "import pandas as pd\n",
    "pd.set_option('display.max_columns', None)\n",
    "\n",
    "import multiprocessing as mp\n",
    "\n",
    "from tqdm.notebook import tqdm\n",
    "\n",
    "import time"
   ]
  },
  {
   "cell_type": "markdown",
   "id": "fef3a78b",
   "metadata": {},
   "source": [
    "## CSV and Columns"
   ]
  },
  {
   "cell_type": "code",
   "execution_count": 2,
   "id": "deca4a9c",
   "metadata": {},
   "outputs": [],
   "source": [
    "anime = pd.read_csv('../data/anime.csv')"
   ]
  },
  {
   "cell_type": "code",
   "execution_count": 3,
   "id": "b1632f0e",
   "metadata": {},
   "outputs": [],
   "source": [
    "old_colnames = anime.columns\n",
    "new_colnames = [name.lower().replace(' ', '_').replace('-','_') for name in old_colnames]\n",
    "\n",
    "anime.rename(columns=dict(zip(old_colnames, new_colnames)), inplace=True)\n",
    "\n",
    "del_cols = ['score_1','score_2','score_3','score_4','score_5','score_6','score_7','score_8','score_9','score_10','dropped','plan_to_watch','on_hold','completed','watching','favorites','popularity']\n",
    "\n",
    "anime.drop(columns=del_cols, inplace=True)"
   ]
  },
  {
   "cell_type": "markdown",
   "id": "fa4d421d",
   "metadata": {},
   "source": [
    "## Wikipedia Function"
   ]
  },
  {
   "cell_type": "code",
   "execution_count": 4,
   "id": "2a74237f",
   "metadata": {},
   "outputs": [
    {
     "data": {
      "text/html": [
       "<div>\n",
       "<style scoped>\n",
       "    .dataframe tbody tr th:only-of-type {\n",
       "        vertical-align: middle;\n",
       "    }\n",
       "\n",
       "    .dataframe tbody tr th {\n",
       "        vertical-align: top;\n",
       "    }\n",
       "\n",
       "    .dataframe thead th {\n",
       "        text-align: right;\n",
       "    }\n",
       "</style>\n",
       "<table border=\"1\" class=\"dataframe\">\n",
       "  <thead>\n",
       "    <tr style=\"text-align: right;\">\n",
       "      <th></th>\n",
       "      <th>mal_id</th>\n",
       "      <th>name</th>\n",
       "      <th>score</th>\n",
       "      <th>genres</th>\n",
       "      <th>english_name</th>\n",
       "      <th>japanese_name</th>\n",
       "      <th>type</th>\n",
       "      <th>episodes</th>\n",
       "      <th>aired</th>\n",
       "      <th>premiered</th>\n",
       "      <th>producers</th>\n",
       "      <th>licensors</th>\n",
       "      <th>studios</th>\n",
       "      <th>source</th>\n",
       "      <th>duration</th>\n",
       "      <th>rating</th>\n",
       "      <th>ranked</th>\n",
       "      <th>members</th>\n",
       "    </tr>\n",
       "  </thead>\n",
       "  <tbody>\n",
       "    <tr>\n",
       "      <th>0</th>\n",
       "      <td>1</td>\n",
       "      <td>Cowboy Bebop</td>\n",
       "      <td>8.78</td>\n",
       "      <td>Action, Adventure, Comedy, Drama, Sci-Fi, Space</td>\n",
       "      <td>Cowboy Bebop</td>\n",
       "      <td>カウボーイビバップ</td>\n",
       "      <td>TV</td>\n",
       "      <td>26</td>\n",
       "      <td>Apr 3, 1998 to Apr 24, 1999</td>\n",
       "      <td>Spring 1998</td>\n",
       "      <td>Bandai Visual</td>\n",
       "      <td>Funimation, Bandai Entertainment</td>\n",
       "      <td>Sunrise</td>\n",
       "      <td>Original</td>\n",
       "      <td>24 min. per ep.</td>\n",
       "      <td>R - 17+ (violence &amp; profanity)</td>\n",
       "      <td>28.0</td>\n",
       "      <td>1251960</td>\n",
       "    </tr>\n",
       "    <tr>\n",
       "      <th>1</th>\n",
       "      <td>5</td>\n",
       "      <td>Cowboy Bebop: Tengoku no Tobira</td>\n",
       "      <td>8.39</td>\n",
       "      <td>Action, Drama, Mystery, Sci-Fi, Space</td>\n",
       "      <td>Cowboy Bebop:The Movie</td>\n",
       "      <td>カウボーイビバップ 天国の扉</td>\n",
       "      <td>Movie</td>\n",
       "      <td>1</td>\n",
       "      <td>Sep 1, 2001</td>\n",
       "      <td>Unknown</td>\n",
       "      <td>Sunrise, Bandai Visual</td>\n",
       "      <td>Sony Pictures Entertainment</td>\n",
       "      <td>Bones</td>\n",
       "      <td>Original</td>\n",
       "      <td>1 hr. 55 min.</td>\n",
       "      <td>R - 17+ (violence &amp; profanity)</td>\n",
       "      <td>159.0</td>\n",
       "      <td>273145</td>\n",
       "    </tr>\n",
       "    <tr>\n",
       "      <th>2</th>\n",
       "      <td>6</td>\n",
       "      <td>Trigun</td>\n",
       "      <td>8.24</td>\n",
       "      <td>Action, Sci-Fi, Adventure, Comedy, Drama, Shounen</td>\n",
       "      <td>Trigun</td>\n",
       "      <td>トライガン</td>\n",
       "      <td>TV</td>\n",
       "      <td>26</td>\n",
       "      <td>Apr 1, 1998 to Sep 30, 1998</td>\n",
       "      <td>Spring 1998</td>\n",
       "      <td>Victor Entertainment</td>\n",
       "      <td>Funimation, Geneon Entertainment USA</td>\n",
       "      <td>Madhouse</td>\n",
       "      <td>Manga</td>\n",
       "      <td>24 min. per ep.</td>\n",
       "      <td>PG-13 - Teens 13 or older</td>\n",
       "      <td>266.0</td>\n",
       "      <td>558913</td>\n",
       "    </tr>\n",
       "  </tbody>\n",
       "</table>\n",
       "</div>"
      ],
      "text/plain": [
       "   mal_id                             name score  \\\n",
       "0       1                     Cowboy Bebop  8.78   \n",
       "1       5  Cowboy Bebop: Tengoku no Tobira  8.39   \n",
       "2       6                           Trigun  8.24   \n",
       "\n",
       "                                              genres            english_name  \\\n",
       "0    Action, Adventure, Comedy, Drama, Sci-Fi, Space            Cowboy Bebop   \n",
       "1              Action, Drama, Mystery, Sci-Fi, Space  Cowboy Bebop:The Movie   \n",
       "2  Action, Sci-Fi, Adventure, Comedy, Drama, Shounen                  Trigun   \n",
       "\n",
       "    japanese_name   type episodes                        aired    premiered  \\\n",
       "0       カウボーイビバップ     TV       26  Apr 3, 1998 to Apr 24, 1999  Spring 1998   \n",
       "1  カウボーイビバップ 天国の扉  Movie        1                  Sep 1, 2001      Unknown   \n",
       "2           トライガン     TV       26  Apr 1, 1998 to Sep 30, 1998  Spring 1998   \n",
       "\n",
       "                producers                             licensors   studios  \\\n",
       "0           Bandai Visual      Funimation, Bandai Entertainment   Sunrise   \n",
       "1  Sunrise, Bandai Visual           Sony Pictures Entertainment     Bones   \n",
       "2    Victor Entertainment  Funimation, Geneon Entertainment USA  Madhouse   \n",
       "\n",
       "     source         duration                          rating ranked  members  \n",
       "0  Original  24 min. per ep.  R - 17+ (violence & profanity)   28.0  1251960  \n",
       "1  Original    1 hr. 55 min.  R - 17+ (violence & profanity)  159.0   273145  \n",
       "2     Manga  24 min. per ep.       PG-13 - Teens 13 or older  266.0   558913  "
      ]
     },
     "execution_count": 4,
     "metadata": {},
     "output_type": "execute_result"
    }
   ],
   "source": [
    "anime.head(3)"
   ]
  },
  {
   "cell_type": "code",
   "execution_count": 5,
   "id": "38c6c7fb",
   "metadata": {},
   "outputs": [],
   "source": [
    "def wiki_dir(title): # Entra una lista de titulos\n",
    "    \n",
    "    res = 'unknown'\n",
    "    \n",
    "    url_wiki = 'https://en.wikipedia.org/wiki/'\n",
    "    \n",
    "    url= url_wiki + title.replace(' ','_')\n",
    "   \n",
    "    # Intenta encontrar el link y parsearlo\n",
    "\n",
    "    try:\n",
    "        \n",
    "        html = requests.get(url).content\n",
    "        \n",
    "        soup = bs(html, \"html.parser\")\n",
    "        \n",
    "        # Prueba class_='infobox'\n",
    "        \n",
    "        if str(soup.find('table', class_='infobox')) != 'None':\n",
    "                                                                       \n",
    "            sauce = soup.find('table', class_='infobox')\n",
    "\n",
    "            noodle = sauce.find_all('tr')\n",
    "            \n",
    "        # Prueba class_='infobox infobox_v2'\n",
    "            \n",
    "        elif str(soup.find('table', class_='infobox infobox_v2')) != 'None': \n",
    "            \n",
    "            sauce = soup.find('table', class_='infobox infobox_v2')\n",
    "\n",
    "            noodle = sauce.find_all('tr')\n",
    "        \n",
    "        # No encuentra la tabla que buscamos\n",
    "        \n",
    "        else: \n",
    "            \n",
    "            pass\n",
    "        \n",
    "        # Loop que busca el th 'directed by' en todas las filas de la tabla y devuelve el nombre del director.\n",
    "        \n",
    "        for row in noodle:\n",
    "\n",
    "            if row.find('th') == None:\n",
    "                \n",
    "                continue\n",
    "                \n",
    "            elif row.find('th').text.lower().replace('\\xa0','') == 'directedby':\n",
    "                \n",
    "                res = row.find('td').text\n",
    "            \n",
    "            else:\n",
    "                \n",
    "                continue\n",
    "        \n",
    "        # Si se completa el loop sin haber conseguido un director devuelve esto.\n",
    "                \n",
    "        return res\n",
    "        \n",
    "    except:\n",
    "        \n",
    "        return 'fallo'"
   ]
  },
  {
   "cell_type": "code",
   "execution_count": 6,
   "id": "f1f91d0e",
   "metadata": {},
   "outputs": [],
   "source": [
    "from joblib import Parallel, delayed"
   ]
  },
  {
   "cell_type": "code",
   "execution_count": 7,
   "id": "398ebb84",
   "metadata": {
    "scrolled": true
   },
   "outputs": [
    {
     "name": "stderr",
     "output_type": "stream",
     "text": [
      "[Parallel(n_jobs=4)]: Using backend LokyBackend with 4 concurrent workers.\n",
      "[Parallel(n_jobs=4)]: Done  42 tasks      | elapsed:    6.0s\n",
      "[Parallel(n_jobs=4)]: Done 192 tasks      | elapsed:   23.1s\n",
      "[Parallel(n_jobs=4)]: Done 442 tasks      | elapsed:   47.9s\n",
      "[Parallel(n_jobs=4)]: Done 792 tasks      | elapsed:  1.3min\n",
      "[Parallel(n_jobs=4)]: Done 1242 tasks      | elapsed:  2.0min\n",
      "[Parallel(n_jobs=4)]: Done 1792 tasks      | elapsed:  2.8min\n",
      "[Parallel(n_jobs=4)]: Done 2442 tasks      | elapsed:  3.6min\n",
      "[Parallel(n_jobs=4)]: Done 3192 tasks      | elapsed:  4.7min\n",
      "[Parallel(n_jobs=4)]: Done 4042 tasks      | elapsed:  6.0min\n",
      "[Parallel(n_jobs=4)]: Done 4992 tasks      | elapsed:  7.3min\n",
      "[Parallel(n_jobs=4)]: Done 6042 tasks      | elapsed:  8.6min\n",
      "[Parallel(n_jobs=4)]: Done 7192 tasks      | elapsed: 10.1min\n",
      "[Parallel(n_jobs=4)]: Done 8442 tasks      | elapsed: 13.6min\n",
      "[Parallel(n_jobs=4)]: Done 9792 tasks      | elapsed: 15.3min\n",
      "[Parallel(n_jobs=4)]: Done 11242 tasks      | elapsed: 17.1min\n",
      "[Parallel(n_jobs=4)]: Done 12792 tasks      | elapsed: 19.0min\n",
      "[Parallel(n_jobs=4)]: Done 14442 tasks      | elapsed: 21.2min\n",
      "[Parallel(n_jobs=4)]: Done 16192 tasks      | elapsed: 23.4min\n",
      "[Parallel(n_jobs=4)]: Done 17562 out of 17562 | elapsed: 26.9min finished\n"
     ]
    }
   ],
   "source": [
    "\n",
    "\n",
    "paralelo = Parallel(n_jobs=4,  verbose=True)\n",
    "\n",
    "\n",
    "anime['director'] = paralelo(delayed(wiki_dir)(title) for title in anime.english_name)"
   ]
  },
  {
   "cell_type": "code",
   "execution_count": 10,
   "id": "aa3d899b",
   "metadata": {},
   "outputs": [],
   "source": [
    "anime.to_csv('../data/anime_2.csv', index=False)"
   ]
  },
  {
   "cell_type": "code",
   "execution_count": null,
   "id": "f6775be5",
   "metadata": {},
   "outputs": [],
   "source": []
  }
 ],
 "metadata": {
  "kernelspec": {
   "display_name": "Python 3 (ipykernel)",
   "language": "python",
   "name": "python3"
  },
  "language_info": {
   "codemirror_mode": {
    "name": "ipython",
    "version": 3
   },
   "file_extension": ".py",
   "mimetype": "text/x-python",
   "name": "python",
   "nbconvert_exporter": "python",
   "pygments_lexer": "ipython3",
   "version": "3.10.9"
  }
 },
 "nbformat": 4,
 "nbformat_minor": 5
}
