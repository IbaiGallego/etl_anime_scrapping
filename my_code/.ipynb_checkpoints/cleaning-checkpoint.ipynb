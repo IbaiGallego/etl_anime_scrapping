{
 "cells": [
  {
   "cell_type": "code",
   "execution_count": 1,
   "id": "5c156dbb",
   "metadata": {},
   "outputs": [],
   "source": [
    "import requests\n",
    "\n",
    "from bs4 import BeautifulSoup as bs\n",
    "\n",
    "import pandas as pd\n",
    "pd.set_option('display.max_columns', None)\n",
    "\n",
    "import numpy as np\n",
    "\n",
    "import multiprocessing as mp\n",
    "\n",
    "from tqdm.notebook import tqdm\n",
    "\n",
    "import time\n",
    "\n",
    "from joblib import Parallel, delayed"
   ]
  },
  {
   "cell_type": "code",
   "execution_count": 2,
   "id": "7f1f64a6",
   "metadata": {},
   "outputs": [],
   "source": [
    "anime = pd.read_csv('anime_3.csv')"
   ]
  },
  {
   "cell_type": "code",
   "execution_count": 3,
   "id": "9dfe30e9",
   "metadata": {},
   "outputs": [],
   "source": [
    "anime.producer.replace('fallo', np.nan, inplace= True)\n",
    "anime.producer.replace('unknown', np.nan, inplace= True)\n",
    "anime.director.replace('unknown', np.nan, inplace= True)\n",
    "anime.director.replace('fallo', np.nan, inplace= True)"
   ]
  },
  {
   "cell_type": "code",
   "execution_count": 6,
   "id": "b1fa35d2",
   "metadata": {},
   "outputs": [],
   "source": [
    "anime.dropna(subset=['director', 'producer'], how='all', inplace=True)"
   ]
  },
  {
   "cell_type": "code",
   "execution_count": 9,
   "id": "7aa97e21",
   "metadata": {},
   "outputs": [
    {
     "data": {
      "text/plain": [
       "(1759, 20)"
      ]
     },
     "execution_count": 9,
     "metadata": {},
     "output_type": "execute_result"
    }
   ],
   "source": [
    "anime.shape"
   ]
  },
  {
   "cell_type": "code",
   "execution_count": 11,
   "id": "af1ec6cf",
   "metadata": {},
   "outputs": [],
   "source": [
    "anime.to_csv('../data/anime_clean.csv', index=False)"
   ]
  },
  {
   "cell_type": "code",
   "execution_count": null,
   "id": "807b0b64",
   "metadata": {},
   "outputs": [],
   "source": []
  }
 ],
 "metadata": {
  "kernelspec": {
   "display_name": "Python 3 (ipykernel)",
   "language": "python",
   "name": "python3"
  },
  "language_info": {
   "codemirror_mode": {
    "name": "ipython",
    "version": 3
   },
   "file_extension": ".py",
   "mimetype": "text/x-python",
   "name": "python",
   "nbconvert_exporter": "python",
   "pygments_lexer": "ipython3",
   "version": "3.10.9"
  }
 },
 "nbformat": 4,
 "nbformat_minor": 5
}
