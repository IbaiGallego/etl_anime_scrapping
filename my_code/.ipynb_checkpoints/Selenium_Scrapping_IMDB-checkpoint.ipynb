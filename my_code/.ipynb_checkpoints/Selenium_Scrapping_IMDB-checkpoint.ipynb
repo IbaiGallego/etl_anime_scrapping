{
 "cells": [
  {
   "cell_type": "code",
   "execution_count": 1,
   "id": "5919bdf4",
   "metadata": {},
   "outputs": [],
   "source": [
    "import pandas as pd\n",
    "\n",
    "import numpy as np\n",
    "\n",
    "from selenium import webdriver\n",
    "\n",
    "import requests as req\n",
    "\n",
    "from bs4 import BeautifulSoup as bs\n",
    "\n",
    "from selenium.webdriver.chrome.options import Options\n",
    "\n",
    "#from webdriver_manager.chrome import ChromeDriverManager \n",
    "\n",
    "import time\n",
    "\n",
    "import warnings\n",
    "warnings.filterwarnings('ignore')\n",
    "\n",
    "from selenium.webdriver.common.by import By\n",
    "\n",
    "\n",
    "opciones=Options()\n",
    "opciones.add_experimental_option('excludeSwitches', ['enable-automation'])\n",
    "opciones.add_experimental_option('useAutomationExtension', False)\n",
    "opciones.headless=False                            # False = ventana emergente, True = sin ventana\n",
    "opciones.add_argument('--start-maximized')         # ventana maximizada\n",
    "opciones.add_argument('--incognito')\n",
    "\n",
    "\n",
    "PATH = 'driver/chromedriver'\n",
    "\n"
   ]
  },
  {
   "cell_type": "code",
   "execution_count": 14,
   "id": "24bedc9b",
   "metadata": {},
   "outputs": [],
   "source": [
    "driver = webdriver.Chrome(PATH, options = opciones)   # abre una ventana de chrome\n",
    "driver.get('https://www.imdb.com/search/title/?genres=Animation&explore=title_type%2Cgenres&ref_=ft_popular_2')  "
   ]
  },
  {
   "cell_type": "code",
   "execution_count": 5,
   "id": "37c94537",
   "metadata": {},
   "outputs": [],
   "source": [
    "films_page = driver.find_elements(By.CLASS_NAME, 'lister-item.mode-advanced')"
   ]
  },
  {
   "cell_type": "code",
   "execution_count": null,
   "id": "28ac4411",
   "metadata": {},
   "outputs": [],
   "source": []
  },
  {
   "cell_type": "code",
   "execution_count": 16,
   "id": "c3183028",
   "metadata": {},
   "outputs": [
    {
     "name": "stdout",
     "output_type": "stream",
     "text": [
      "CPU times: user 1min 12s, sys: 5.49 s, total: 1min 17s\n",
      "Wall time: 56min 47s\n"
     ]
    }
   ],
   "source": [
    "%%time\n",
    "\n",
    "driver = webdriver.Chrome(PATH, options = opciones)   # abre una ventana de chrome\n",
    "driver.get('https://www.imdb.com/search/title/?genres=Animation&explore=title_type%2Cgenres&ref_=ft_popular_2') \n",
    "\n",
    "time.sleep(1)\n",
    "\n",
    "filmos = []\n",
    "\n",
    "for n in range(400):\n",
    "    \n",
    "    films_page = driver.find_elements(By.CLASS_NAME, 'lister-item.mode-advanced')\n",
    "    \n",
    "    for f in films_page:\n",
    "\n",
    "        a = f.find_element(By.TAG_NAME, 'h3').text\n",
    "        \n",
    "        try:\n",
    "            \n",
    "            b = f.find_element(By.TAG_NAME, 'strong').text\n",
    "            \n",
    "        except:\n",
    "            \n",
    "            b = np.nan\n",
    "            \n",
    "        filmos.append({a:b})\n",
    "\n",
    "    driver.find_element(By.CLASS_NAME, 'lister-page-next.next-page').click()\n",
    "    \n",
    "    time.sleep(3)\n",
    "    \n"
   ]
  },
  {
   "cell_type": "code",
   "execution_count": 18,
   "id": "b1d84fc7",
   "metadata": {},
   "outputs": [
    {
     "data": {
      "text/plain": [
       "20000"
      ]
     },
     "execution_count": 18,
     "metadata": {},
     "output_type": "execute_result"
    }
   ],
   "source": [
    "filmos"
   ]
  },
  {
   "cell_type": "code",
   "execution_count": 19,
   "id": "34aa8247",
   "metadata": {},
   "outputs": [
    {
     "name": "stderr",
     "output_type": "stream",
     "text": [
      "\n",
      "KeyboardInterrupt\n",
      "\n"
     ]
    }
   ],
   "source": [
    "imdb = pd.DataFrame(filmos)"
   ]
  },
  {
   "cell_type": "code",
   "execution_count": null,
   "id": "fad3c53e",
   "metadata": {},
   "outputs": [],
   "source": [
    "imdb.to_csv('../data/imdb.csv')"
   ]
  }
 ],
 "metadata": {
  "kernelspec": {
   "display_name": "Python 3 (ipykernel)",
   "language": "python",
   "name": "python3"
  },
  "language_info": {
   "codemirror_mode": {
    "name": "ipython",
    "version": 3
   },
   "file_extension": ".py",
   "mimetype": "text/x-python",
   "name": "python",
   "nbconvert_exporter": "python",
   "pygments_lexer": "ipython3",
   "version": "3.10.9"
  }
 },
 "nbformat": 4,
 "nbformat_minor": 5
}
