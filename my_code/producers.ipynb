{
 "cells": [
  {
   "cell_type": "code",
   "execution_count": 1,
   "id": "1eb8d80f",
   "metadata": {},
   "outputs": [],
   "source": [
    "import requests\n",
    "\n",
    "from bs4 import BeautifulSoup as bs\n",
    "\n",
    "import pandas as pd\n",
    "pd.set_option('display.max_columns', None)\n",
    "\n",
    "import multiprocessing as mp\n",
    "\n",
    "from tqdm.notebook import tqdm\n",
    "\n",
    "import time\n",
    "\n",
    "from joblib import Parallel, delayed"
   ]
  },
  {
   "cell_type": "code",
   "execution_count": 2,
   "id": "43617c3f",
   "metadata": {},
   "outputs": [],
   "source": [
    "anime = pd.read_csv('anime_2.csv')"
   ]
  },
  {
   "cell_type": "code",
   "execution_count": 3,
   "id": "a9c51245",
   "metadata": {},
   "outputs": [],
   "source": [
    "def wiki_dir(title): # Entra una lista de titulos\n",
    "    \n",
    "    res = 'unknown'\n",
    "    \n",
    "    url_wiki = 'https://en.wikipedia.org/wiki/'\n",
    "    \n",
    "    url= url_wiki + title.replace(' ','_')\n",
    "   \n",
    "    # Intenta encontrar el link y parsearlo\n",
    "\n",
    "    try:\n",
    "        \n",
    "        html = requests.get(url).content\n",
    "        \n",
    "        soup = bs(html, \"html.parser\")\n",
    "        \n",
    "        # Prueba class_='infobox'\n",
    "        \n",
    "        if str(soup.find('table', class_='infobox')) != 'None':\n",
    "                                                                       \n",
    "            sauce = soup.find('table', class_='infobox')\n",
    "\n",
    "            noodle = sauce.find_all('tr')\n",
    "            \n",
    "        # Prueba class_='infobox infobox_v2'\n",
    "            \n",
    "        elif str(soup.find('table', class_='infobox infobox_v2')) != 'None': \n",
    "            \n",
    "            sauce = soup.find('table', class_='infobox infobox_v2')\n",
    "\n",
    "            noodle = sauce.find_all('tr')\n",
    "        \n",
    "        # No encuentra la tabla que buscamos\n",
    "        \n",
    "        else: \n",
    "            \n",
    "            pass\n",
    "        \n",
    "        # Loop que busca el th 'directed by' en todas las filas de la tabla y devuelve el nombre del director.\n",
    "        \n",
    "        for row in noodle:\n",
    "\n",
    "            if row.find('th') == None:\n",
    "                \n",
    "                continue\n",
    "                \n",
    "            elif row.find('th').text.lower().replace('\\xa0','') == 'producedby':\n",
    "                \n",
    "                res = row.find('td').text\n",
    "            \n",
    "            else:\n",
    "                \n",
    "                continue\n",
    "        \n",
    "        # Si se completa el loop sin haber conseguido un director devuelve esto.\n",
    "                \n",
    "        return res\n",
    "        \n",
    "    except:\n",
    "        \n",
    "        return 'fallo'"
   ]
  },
  {
   "cell_type": "code",
   "execution_count": 4,
   "id": "e35b5bf5",
   "metadata": {},
   "outputs": [
    {
     "name": "stderr",
     "output_type": "stream",
     "text": [
      "[Parallel(n_jobs=4)]: Using backend LokyBackend with 4 concurrent workers.\n",
      "[Parallel(n_jobs=4)]: Done  42 tasks      | elapsed:    6.3s\n",
      "[Parallel(n_jobs=4)]: Done 192 tasks      | elapsed:   21.2s\n",
      "[Parallel(n_jobs=4)]: Done 442 tasks      | elapsed:   46.6s\n",
      "[Parallel(n_jobs=4)]: Done 792 tasks      | elapsed:  1.3min\n",
      "[Parallel(n_jobs=4)]: Done 1242 tasks      | elapsed:  1.9min\n",
      "[Parallel(n_jobs=4)]: Done 1792 tasks      | elapsed:  2.7min\n",
      "[Parallel(n_jobs=4)]: Done 2442 tasks      | elapsed:  3.5min\n",
      "[Parallel(n_jobs=4)]: Done 3192 tasks      | elapsed:  4.6min\n",
      "[Parallel(n_jobs=4)]: Done 4042 tasks      | elapsed:  5.9min\n",
      "[Parallel(n_jobs=4)]: Done 4992 tasks      | elapsed:  7.2min\n",
      "[Parallel(n_jobs=4)]: Done 6042 tasks      | elapsed:  8.5min\n",
      "[Parallel(n_jobs=4)]: Done 7192 tasks      | elapsed: 10.0min\n",
      "[Parallel(n_jobs=4)]: Done 8442 tasks      | elapsed: 11.4min\n",
      "[Parallel(n_jobs=4)]: Done 9792 tasks      | elapsed: 13.0min\n",
      "[Parallel(n_jobs=4)]: Done 11242 tasks      | elapsed: 14.9min\n",
      "[Parallel(n_jobs=4)]: Done 12792 tasks      | elapsed: 16.8min\n",
      "[Parallel(n_jobs=4)]: Done 14442 tasks      | elapsed: 18.9min\n",
      "[Parallel(n_jobs=4)]: Done 16192 tasks      | elapsed: 21.2min\n",
      "[Parallel(n_jobs=4)]: Done 17562 out of 17562 | elapsed: 22.7min finished\n"
     ]
    }
   ],
   "source": [
    "\n",
    "paralelo = Parallel(n_jobs=4,  verbose=True)\n",
    "\n",
    "\n",
    "anime['producer'] = paralelo(delayed(wiki_dir)(title) for title in anime.english_name)"
   ]
  },
  {
   "cell_type": "code",
   "execution_count": null,
   "id": "b0b318a7",
   "metadata": {},
   "outputs": [],
   "source": [
    "anime.to_csv('../data/anime_3.csv', index = False)"
   ]
  }
 ],
 "metadata": {
  "kernelspec": {
   "display_name": "Python 3 (ipykernel)",
   "language": "python",
   "name": "python3"
  },
  "language_info": {
   "codemirror_mode": {
    "name": "ipython",
    "version": 3
   },
   "file_extension": ".py",
   "mimetype": "text/x-python",
   "name": "python",
   "nbconvert_exporter": "python",
   "pygments_lexer": "ipython3",
   "version": "3.10.9"
  }
 },
 "nbformat": 4,
 "nbformat_minor": 5
}
